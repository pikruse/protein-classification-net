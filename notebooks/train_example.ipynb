{
 "cells": [
  {
   "cell_type": "markdown",
   "metadata": {},
   "source": [
    "# How do we train a Deep Learning model?"
   ]
  },
  {
   "cell_type": "code",
   "execution_count": null,
   "metadata": {},
   "outputs": [],
   "source": [
    "# import packages\n",
    "import sys, os, glob\n",
    "import numpy as np\n",
    "import pandas as pd\n",
    "import matplotlib.pyplot as plt\n",
    "import torch\n",
    "import torch.nn as nn\n",
    "import torch.optim as optim\n",
    "from torch.utils.data import DataLoader, Dataset, Subset"
   ]
  },
  {
   "cell_type": "code",
   "execution_count": 2,
   "metadata": {},
   "outputs": [],
   "source": [
    "# load in the data\n",
    "# make a toy dataset with 1000 samples\n",
    "np.random.seed(0)\n",
    "n = 1000 # number of samples\n",
    "x = np.random.rand(n, 1)\n",
    "y = 2 * x + 1 + (0.1 * np.random.randn(n, 1))"
   ]
  },
  {
   "cell_type": "markdown",
   "metadata": {},
   "source": [
    "Plan:\n",
    "`x -> model -> y`"
   ]
  },
  {
   "cell_type": "code",
   "execution_count": 5,
   "metadata": {},
   "outputs": [],
   "source": [
    "# turn the data into a torch tensor\n",
    "x_tensor = torch.tensor(x, dtype=torch.float32)\n",
    "y_tensor = torch.tensor(y, dtype=torch.float32)"
   ]
  },
  {
   "cell_type": "code",
   "execution_count": 6,
   "metadata": {},
   "outputs": [],
   "source": [
    "# create a simple dataset class\n",
    "class SimpleDataset(Dataset):\n",
    "\n",
    "    def __init__(self, x_data, y_data):\n",
    "        self.x_data = x_data\n",
    "        self.y_data = y_data\n",
    "    \n",
    "    # what happens when we call len(dataset)?\n",
    "    def __len__(self):\n",
    "        return len(self.x_data)\n",
    "    \n",
    "    # what happens when we call dataset[idx]?\n",
    "    def __getitem__(self, idx):\n",
    "        return self.x_data[idx], self.y_data[idx]\n",
    "\n",
    "dataset = SimpleDataset(x_tensor, y_tensor)"
   ]
  },
  {
   "cell_type": "code",
   "execution_count": 7,
   "metadata": {},
   "outputs": [],
   "source": [
    "# create a dataloader and split into train and test\n",
    "train_prop = 0.8 # 80%\n",
    "train_size = int(train_prop * len(dataset)) # .80 * 1000 = 800\n",
    "train_idx = np.random.choice(len(dataset), train_size, replace=False) # random sample 800 indices, w/o replacement\n",
    "test_idx = np.setdiff1d(np.arange(len(dataset)), train_idx) # get the indices that are not in train_idx\n",
    "\n",
    "train_dataset = Subset(dataset, train_idx) \n",
    "test_dataset = Subset(dataset, test_idx)\n",
    "\n",
    "train_loader = DataLoader(train_dataset, batch_size=8, shuffle=True)\n",
    "test_loader = DataLoader(test_dataset, batch_size=8, shuffle=False)"
   ]
  },
  {
   "cell_type": "code",
   "execution_count": 8,
   "metadata": {},
   "outputs": [
    {
     "name": "stdout",
     "output_type": "stream",
     "text": [
      "torch.Size([8, 1]) torch.Size([8, 1])\n"
     ]
    }
   ],
   "source": [
    "for x_batch, y_batch in train_loader:\n",
    "    print(x_batch.shape, y_batch.shape)\n",
    "    break"
   ]
  },
  {
   "cell_type": "code",
   "execution_count": 89,
   "metadata": {},
   "outputs": [],
   "source": [
    "# load in the model\n",
    "class Net(nn.Module):\n",
    "\n",
    "    def __init__(self):\n",
    "        super(Net, self).__init__()\n",
    "\n",
    "        # architecture: fc (1 -> 64) -> ReLU -> fc (64 -> 1)\n",
    "        self.fc1 = nn.Linear(1, 64)\n",
    "        self.fc2 = nn.Linear(64, 1)\n",
    "        self.act = nn.ReLU()\n",
    "    \n",
    "    def forward(self, x):\n",
    "\n",
    "        x = self.fc1(x) # 1 -> 64\n",
    "        x = self.act(x) # 64\n",
    "        x = self.fc2(x) # 64 -> 1\n",
    "\n",
    "        return x"
   ]
  },
  {
   "cell_type": "code",
   "execution_count": null,
   "metadata": {},
   "outputs": [
    {
     "name": "stdout",
     "output_type": "stream",
     "text": [
      "3.1587750911712646\n"
     ]
    }
   ],
   "source": [
    "# single example\n",
    "# get batch\n",
    "x, y = next(iter(train_loader))\n",
    "\n",
    "# zero the gradients (tell the optimizer to forget the gradients from the last batch)\n",
    "optimizer.zero_grad()\n",
    "\n",
    "# forward pass (make a prediction)\n",
    "y_pred = model(x)\n",
    "\n",
    "# calculate the loss\n",
    "loss = loss_fn(y_pred, y)\n",
    "print(loss.item())\n",
    "\n",
    "# backward pass (calculate the gradients)\n",
    "loss.backward()\n",
    "\n",
    "# update the weights\n",
    "optimizer.step()"
   ]
  },
  {
   "cell_type": "code",
   "execution_count": null,
   "metadata": {},
   "outputs": [
    {
     "name": "stdout",
     "output_type": "stream",
     "text": [
      "Loss: 3.073629379272461 | Batch: 100/100\r"
     ]
    }
   ],
   "source": [
    "# training loop (single epoch)\n",
    "\n",
    "i = 0\n",
    "# get batch\n",
    "for x, y in train_loader:\n",
    "    \n",
    "    # zero the gradients (tell the optimizer to forget the gradients from the last batch)\n",
    "    optimizer.zero_grad()\n",
    "\n",
    "    # forward pass (make a prediction)\n",
    "    y_pred = model(x)\n",
    "\n",
    "    # calculate the loss\n",
    "    loss = loss_fn(y_pred, y)\n",
    "\n",
    "    # backward pass (calculate the gradients)\n",
    "    loss.backward()\n",
    "\n",
    "    # update the weights\n",
    "    optimizer.step()\n",
    "\n",
    "    i += 1\n",
    "\n",
    "    print(f\"Loss: {loss.item()} | Batch: {i}/{len(train_loader)}\", end=\"\\r\")"
   ]
  },
  {
   "cell_type": "code",
   "execution_count": 101,
   "metadata": {},
   "outputs": [],
   "source": [
    "# configure training, set up the optimizer\n",
    "model = Net()\n",
    "loss_fn = nn.MSELoss() # loss function: what direction we want to go\n",
    "optimizer = optim.AdamW(model.parameters(), lr=1e-3) # learning rate: how much we want to move in that direction"
   ]
  },
  {
   "cell_type": "code",
   "execution_count": 102,
   "metadata": {},
   "outputs": [
    {
     "name": "stdout",
     "output_type": "stream",
     "text": [
      "Epoch: 1/100 | Train Loss: 1.0350 | Test Loss: 0.1132\n",
      "Epoch: 2/100 | Train Loss: 0.0629 | Test Loss: 0.0280\n",
      "Epoch: 3/100 | Train Loss: 0.0187 | Test Loss: 0.0129\n",
      "Epoch: 4/100 | Train Loss: 0.0124 | Test Loss: 0.0109\n",
      "Epoch: 5/100 | Train Loss: 0.0111 | Test Loss: 0.0098\n",
      "Epoch: 6/100 | Train Loss: 0.0104 | Test Loss: 0.0094\n",
      "Epoch: 7/100 | Train Loss: 0.0100 | Test Loss: 0.0093\n",
      "Epoch: 8/100 | Train Loss: 0.0097 | Test Loss: 0.0091\n",
      "Epoch: 9/100 | Train Loss: 0.0097 | Test Loss: 0.0100\n",
      "Epoch: 10/100 | Train Loss: 0.0096 | Test Loss: 0.0095\n",
      "Epoch: 11/100 | Train Loss: 0.0094 | Test Loss: 0.0092\n",
      "Epoch: 12/100 | Train Loss: 0.0096 | Test Loss: 0.0095\n",
      "Epoch: 13/100 | Train Loss: 0.0094 | Test Loss: 0.0094\n",
      "Epoch: 14/100 | Train Loss: 0.0095 | Test Loss: 0.0092\n",
      "Epoch: 15/100 | Train Loss: 0.0095 | Test Loss: 0.0093\n",
      "Epoch: 16/100 | Train Loss: 0.0094 | Test Loss: 0.0094\n",
      "Epoch: 17/100 | Train Loss: 0.0094 | Test Loss: 0.0093\n",
      "Epoch: 18/100 | Train Loss: 0.0094 | Test Loss: 0.0093\n",
      "Epoch: 19/100 | Train Loss: 0.0095 | Test Loss: 0.0095\n",
      "Epoch: 20/100 | Train Loss: 0.0096 | Test Loss: 0.0093\n",
      "Epoch: 21/100 | Train Loss: 0.0095 | Test Loss: 0.0092\n",
      "Epoch: 22/100 | Train Loss: 0.0096 | Test Loss: 0.0096\n",
      "Epoch: 23/100 | Train Loss: 0.0094 | Test Loss: 0.0093\n",
      "Epoch: 24/100 | Train Loss: 0.0096 | Test Loss: 0.0095\n",
      "Epoch: 25/100 | Train Loss: 0.0096 | Test Loss: 0.0092\n",
      "Epoch: 26/100 | Train Loss: 0.0094 | Test Loss: 0.0098\n",
      "Epoch: 27/100 | Train Loss: 0.0094 | Test Loss: 0.0096\n",
      "Epoch: 28/100 | Train Loss: 0.0098 | Test Loss: 0.0094\n",
      "Epoch: 29/100 | Train Loss: 0.0097 | Test Loss: 0.0092\n",
      "Epoch: 30/100 | Train Loss: 0.0097 | Test Loss: 0.0112\n",
      "Epoch: 31/100 | Train Loss: 0.0098 | Test Loss: 0.0102\n",
      "Epoch: 32/100 | Train Loss: 0.0095 | Test Loss: 0.0096\n",
      "Epoch: 33/100 | Train Loss: 0.0097 | Test Loss: 0.0095\n",
      "Epoch: 34/100 | Train Loss: 0.0095 | Test Loss: 0.0100\n",
      "Epoch: 35/100 | Train Loss: 0.0096 | Test Loss: 0.0093\n",
      "Epoch: 36/100 | Train Loss: 0.0095 | Test Loss: 0.0093\n",
      "Epoch: 37/100 | Train Loss: 0.0097 | Test Loss: 0.0092\n",
      "Epoch: 38/100 | Train Loss: 0.0097 | Test Loss: 0.0096\n",
      "Epoch: 39/100 | Train Loss: 0.0096 | Test Loss: 0.0093\n",
      "Epoch: 40/100 | Train Loss: 0.0098 | Test Loss: 0.0111\n",
      "Epoch: 41/100 | Train Loss: 0.0099 | Test Loss: 0.0099\n",
      "Epoch: 42/100 | Train Loss: 0.0097 | Test Loss: 0.0095\n",
      "Epoch: 43/100 | Train Loss: 0.0099 | Test Loss: 0.0093\n",
      "Epoch: 44/100 | Train Loss: 0.0098 | Test Loss: 0.0093\n",
      "Epoch: 45/100 | Train Loss: 0.0097 | Test Loss: 0.0095\n",
      "Epoch: 46/100 | Train Loss: 0.0097 | Test Loss: 0.0094\n",
      "Epoch: 47/100 | Train Loss: 0.0098 | Test Loss: 0.0093\n",
      "Epoch: 48/100 | Train Loss: 0.0096 | Test Loss: 0.0095\n",
      "Epoch: 49/100 | Train Loss: 0.0096 | Test Loss: 0.0095\n",
      "Epoch: 50/100 | Train Loss: 0.0097 | Test Loss: 0.0096\n",
      "Epoch: 51/100 | Train Loss: 0.0099 | Test Loss: 0.0101\n",
      "Epoch: 52/100 | Train Loss: 0.0096 | Test Loss: 0.0092\n",
      "Epoch: 53/100 | Train Loss: 0.0094 | Test Loss: 0.0097\n",
      "Epoch: 54/100 | Train Loss: 0.0098 | Test Loss: 0.0093\n",
      "Epoch: 55/100 | Train Loss: 0.0096 | Test Loss: 0.0092\n",
      "Epoch: 56/100 | Train Loss: 0.0097 | Test Loss: 0.0094\n",
      "Epoch: 57/100 | Train Loss: 0.0095 | Test Loss: 0.0093\n",
      "Epoch: 58/100 | Train Loss: 0.0095 | Test Loss: 0.0116\n",
      "Epoch: 59/100 | Train Loss: 0.0097 | Test Loss: 0.0094\n",
      "Epoch: 60/100 | Train Loss: 0.0096 | Test Loss: 0.0098\n",
      "Epoch: 61/100 | Train Loss: 0.0096 | Test Loss: 0.0092\n",
      "Epoch: 62/100 | Train Loss: 0.0098 | Test Loss: 0.0099\n",
      "Epoch: 63/100 | Train Loss: 0.0099 | Test Loss: 0.0092\n",
      "Epoch: 64/100 | Train Loss: 0.0097 | Test Loss: 0.0095\n",
      "Epoch: 65/100 | Train Loss: 0.0096 | Test Loss: 0.0102\n",
      "Epoch: 66/100 | Train Loss: 0.0100 | Test Loss: 0.0096\n",
      "Epoch: 67/100 | Train Loss: 0.0098 | Test Loss: 0.0096\n",
      "Epoch: 68/100 | Train Loss: 0.0096 | Test Loss: 0.0098\n",
      "Epoch: 69/100 | Train Loss: 0.0096 | Test Loss: 0.0094\n",
      "Epoch: 70/100 | Train Loss: 0.0096 | Test Loss: 0.0096\n",
      "Epoch: 71/100 | Train Loss: 0.0098 | Test Loss: 0.0094\n",
      "Epoch: 72/100 | Train Loss: 0.0095 | Test Loss: 0.0103\n",
      "Epoch: 73/100 | Train Loss: 0.0097 | Test Loss: 0.0095\n",
      "Epoch: 74/100 | Train Loss: 0.0096 | Test Loss: 0.0092\n",
      "Epoch: 75/100 | Train Loss: 0.0095 | Test Loss: 0.0093\n",
      "Epoch: 76/100 | Train Loss: 0.0096 | Test Loss: 0.0092\n",
      "Epoch: 77/100 | Train Loss: 0.0098 | Test Loss: 0.0106\n",
      "Epoch: 78/100 | Train Loss: 0.0099 | Test Loss: 0.0092\n",
      "Epoch: 79/100 | Train Loss: 0.0098 | Test Loss: 0.0100\n",
      "Epoch: 80/100 | Train Loss: 0.0099 | Test Loss: 0.0094\n",
      "Epoch: 81/100 | Train Loss: 0.0100 | Test Loss: 0.0093\n",
      "Epoch: 82/100 | Train Loss: 0.0096 | Test Loss: 0.0094\n",
      "Epoch: 83/100 | Train Loss: 0.0097 | Test Loss: 0.0096\n",
      "Epoch: 84/100 | Train Loss: 0.0095 | Test Loss: 0.0092\n",
      "Epoch: 85/100 | Train Loss: 0.0097 | Test Loss: 0.0093\n",
      "Epoch: 86/100 | Train Loss: 0.0095 | Test Loss: 0.0092\n",
      "Epoch: 87/100 | Train Loss: 0.0096 | Test Loss: 0.0100\n",
      "Epoch: 88/100 | Train Loss: 0.0097 | Test Loss: 0.0098\n",
      "Epoch: 89/100 | Train Loss: 0.0096 | Test Loss: 0.0092\n",
      "Epoch: 90/100 | Train Loss: 0.0097 | Test Loss: 0.0092\n",
      "Epoch: 91/100 | Train Loss: 0.0100 | Test Loss: 0.0099\n",
      "Epoch: 92/100 | Train Loss: 0.0101 | Test Loss: 0.0094\n",
      "Epoch: 93/100 | Train Loss: 0.0100 | Test Loss: 0.0093\n",
      "Epoch: 94/100 | Train Loss: 0.0099 | Test Loss: 0.0092\n",
      "Epoch: 95/100 | Train Loss: 0.0097 | Test Loss: 0.0095\n",
      "Epoch: 96/100 | Train Loss: 0.0098 | Test Loss: 0.0093\n",
      "Epoch: 97/100 | Train Loss: 0.0094 | Test Loss: 0.0092\n",
      "Epoch: 98/100 | Train Loss: 0.0095 | Test Loss: 0.0094\n",
      "Epoch: 99/100 | Train Loss: 0.0100 | Test Loss: 0.0106\n",
      "Epoch: 100/100 | Train Loss: 0.0096 | Test Loss: 0.0096\n"
     ]
    }
   ],
   "source": [
    "# training loop (multiple epochs)\n",
    "n_epochs = 100\n",
    "\n",
    "train_losses = []\n",
    "test_losses = []\n",
    "\n",
    "for epoch in range(n_epochs):\n",
    "\n",
    "    # init losses\n",
    "    train_loss = 0.0\n",
    "    test_loss = 0.0\n",
    "\n",
    "    # training\n",
    "    model.train()\n",
    "\n",
    "    # get batch\n",
    "    for x, y in train_loader:\n",
    "\n",
    "        # zero the gradients (tell the optimizer to forget the gradients from the last batch)\n",
    "        optimizer.zero_grad()\n",
    "\n",
    "        # forward pass (make a prediction)\n",
    "        y_pred = model(x)\n",
    "\n",
    "        # calculate the loss\n",
    "        loss = loss_fn(y_pred, y)\n",
    "\n",
    "        # backward pass (calculate the gradients)\n",
    "        loss.backward()\n",
    "\n",
    "        # update the weights\n",
    "        optimizer.step()\n",
    "\n",
    "        train_loss += loss.item()\n",
    "        train_losses.append(loss.item())\n",
    "\n",
    "    # normalize the loss\n",
    "    train_loss /= len(train_loader)\n",
    "    \n",
    "    # evaluate the model\n",
    "    model.eval()\n",
    "    with torch.no_grad():\n",
    "        for x, y in test_loader:\n",
    "\n",
    "            # forward pass (make a prediction)\n",
    "            y_pred = model(x)\n",
    "\n",
    "            # calculate the loss\n",
    "            loss = loss_fn(y_pred, y)\n",
    "\n",
    "            test_loss += loss.item()\n",
    "            test_losses.append(loss.item())\n",
    "    \n",
    "    # normalize the loss\n",
    "    test_loss /= len(test_loader)\n",
    "\n",
    "    print(f\"Epoch: {epoch+1}/{n_epochs} | Train Loss: {train_loss:.4f} | Test Loss: {test_loss:.4f}\")\n"
   ]
  },
  {
   "cell_type": "code",
   "execution_count": 105,
   "metadata": {},
   "outputs": [
    {
     "data": {
      "text/plain": [
       "Text(0, 0.5, 'Loss')"
      ]
     },
     "execution_count": 105,
     "metadata": {},
     "output_type": "execute_result"
    },
    {
     "data": {
      "image/png": "[encoded data removed]",
      "text/plain": [
       "<Figure size 640x480 with 1 Axes>"
      ]
     },
     "metadata": {},
     "output_type": "display_data"
    }
   ],
   "source": [
    "# plot the losses per epoch\n",
    "plt.plot(train_losses, label=\"Train Loss\")\n",
    "plt.xlabel(\"Batch\")\n",
    "plt.ylabel(\"Loss\")"
   ]
  }
 ],
 "metadata": {
  "kernelspec": {
   "display_name": "protein",
   "language": "python",
   "name": "python3"
  },
  "language_info": {
   "codemirror_mode": {
    "name": "ipython",
    "version": 3
   },
   "file_extension": ".py",
   "mimetype": "text/x-python",
   "name": "python",
   "nbconvert_exporter": "python",
   "pygments_lexer": "ipython3",
   "version": "3.11.9"
  }
 },
 "nbformat": 4,
 "nbformat_minor": 2
}
